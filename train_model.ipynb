{
 "cells": [
  {
   "cell_type": "markdown",
   "id": "d2b77e3c",
   "metadata": {},
   "source": [
    "This script builds, trains, and evaluates a nueral network surrogate model to predict the deflection of a beam based on the generated dataset."
   ]
  },
  {
   "cell_type": "code",
   "execution_count": 1,
   "id": "b815a8ca",
   "metadata": {},
   "outputs": [],
   "source": [
    "import pandas as pd\n",
    "import numpy as np\n",
    "import tensorflow as tf\n",
    "from sklearn.model_selection import train_test_split\n",
    "from sklearn.preprocessing import MinMaxScaler\n",
    "from sklearn.metrics import r2_score, mean_squared_error, mean_absolute_error\n",
    "import matplotlib.pyplot as plt\n",
    "import time"
   ]
  },
  {
   "cell_type": "code",
   "execution_count": 9,
   "id": "806baba4",
   "metadata": {},
   "outputs": [
    {
     "name": "stdout",
     "output_type": "stream",
     "text": [
      "Loadind dataset...\n",
      "Dataset loaded successfully.\n",
      "\n",
      "Dataset Info:\n",
      "<class 'pandas.core.frame.DataFrame'>\n",
      "RangeIndex: 2000 entries, 0 to 1999\n",
      "Data columns (total 5 columns):\n",
      " #   Column    Non-Null Count  Dtype  \n",
      "---  ------    --------------  -----  \n",
      " 0   k0        2000 non-null   float64\n",
      " 1   k1        2000 non-null   float64\n",
      " 2   damping   2000 non-null   float64\n",
      " 3   velocity  2000 non-null   float64\n",
      " 4   w_max     2000 non-null   float64\n",
      "dtypes: float64(5)\n",
      "memory usage: 78.3 KB\n",
      "\n",
      "First 5 rows of the dataset:\n",
      "<class 'pandas.core.frame.DataFrame'>\n",
      "RangeIndex: 2000 entries, 0 to 1999\n",
      "Data columns (total 5 columns):\n",
      " #   Column    Non-Null Count  Dtype  \n",
      "---  ------    --------------  -----  \n",
      " 0   k0        2000 non-null   float64\n",
      " 1   k1        2000 non-null   float64\n",
      " 2   damping   2000 non-null   float64\n",
      " 3   velocity  2000 non-null   float64\n",
      " 4   w_max     2000 non-null   float64\n",
      "dtypes: float64(5)\n",
      "memory usage: 78.3 KB\n",
      "None\n"
     ]
    }
   ],
   "source": [
    "# --- 1. Load Data ---\n",
    "print(\"Loadind dataset...\")\n",
    "df = pd.read_csv(r\"C:\\Users\\pasch\\OneDrive\\PortalFrameAnalysis\\beam_deflection_dataset.csv\")\n",
    "print(\"Dataset loaded successfully.\")\n",
    "print(\"\\nDataset Info:\")\n",
    "df.info()\n",
    "print(\"\\nFirst 5 rows of the dataset:\")\n",
    "print(df.info())"
   ]
  },
  {
   "cell_type": "code",
   "execution_count": 6,
   "id": "339b1853",
   "metadata": {},
   "outputs": [
    {
     "data": {
      "text/html": [
       "<div>\n",
       "<style scoped>\n",
       "    .dataframe tbody tr th:only-of-type {\n",
       "        vertical-align: middle;\n",
       "    }\n",
       "\n",
       "    .dataframe tbody tr th {\n",
       "        vertical-align: top;\n",
       "    }\n",
       "\n",
       "    .dataframe thead th {\n",
       "        text-align: right;\n",
       "    }\n",
       "</style>\n",
       "<table border=\"1\" class=\"dataframe\">\n",
       "  <thead>\n",
       "    <tr style=\"text-align: right;\">\n",
       "      <th></th>\n",
       "      <th>k0</th>\n",
       "      <th>k1</th>\n",
       "      <th>damping</th>\n",
       "      <th>velocity</th>\n",
       "      <th>w_max</th>\n",
       "    </tr>\n",
       "  </thead>\n",
       "  <tbody>\n",
       "    <tr>\n",
       "      <th>0</th>\n",
       "      <td>1.073641e+08</td>\n",
       "      <td>148746.025235</td>\n",
       "      <td>0.020847</td>\n",
       "      <td>20.553105</td>\n",
       "      <td>0.000084</td>\n",
       "    </tr>\n",
       "    <tr>\n",
       "      <th>1</th>\n",
       "      <td>2.277191e+07</td>\n",
       "      <td>84102.166772</td>\n",
       "      <td>0.065196</td>\n",
       "      <td>25.656706</td>\n",
       "      <td>0.000268</td>\n",
       "    </tr>\n",
       "    <tr>\n",
       "      <th>2</th>\n",
       "      <td>9.175781e+07</td>\n",
       "      <td>31225.232905</td>\n",
       "      <td>0.171639</td>\n",
       "      <td>29.383616</td>\n",
       "      <td>0.000095</td>\n",
       "    </tr>\n",
       "    <tr>\n",
       "      <th>3</th>\n",
       "      <td>3.972292e+07</td>\n",
       "      <td>107823.087179</td>\n",
       "      <td>0.047984</td>\n",
       "      <td>62.910787</td>\n",
       "      <td>0.000183</td>\n",
       "    </tr>\n",
       "    <tr>\n",
       "      <th>4</th>\n",
       "      <td>1.901094e+07</td>\n",
       "      <td>157633.258648</td>\n",
       "      <td>0.018515</td>\n",
       "      <td>72.599706</td>\n",
       "      <td>0.000309</td>\n",
       "    </tr>\n",
       "    <tr>\n",
       "      <th>...</th>\n",
       "      <td>...</td>\n",
       "      <td>...</td>\n",
       "      <td>...</td>\n",
       "      <td>...</td>\n",
       "      <td>...</td>\n",
       "    </tr>\n",
       "    <tr>\n",
       "      <th>1995</th>\n",
       "      <td>1.340495e+08</td>\n",
       "      <td>68238.118267</td>\n",
       "      <td>0.081144</td>\n",
       "      <td>71.546504</td>\n",
       "      <td>0.000073</td>\n",
       "    </tr>\n",
       "    <tr>\n",
       "      <th>1996</th>\n",
       "      <td>7.674841e+07</td>\n",
       "      <td>118055.199765</td>\n",
       "      <td>0.024334</td>\n",
       "      <td>48.119528</td>\n",
       "      <td>0.000110</td>\n",
       "    </tr>\n",
       "    <tr>\n",
       "      <th>1997</th>\n",
       "      <td>1.322220e+07</td>\n",
       "      <td>153852.980762</td>\n",
       "      <td>0.080516</td>\n",
       "      <td>60.188139</td>\n",
       "      <td>0.000402</td>\n",
       "    </tr>\n",
       "    <tr>\n",
       "      <th>1998</th>\n",
       "      <td>1.885010e+08</td>\n",
       "      <td>69389.389191</td>\n",
       "      <td>0.194409</td>\n",
       "      <td>10.906861</td>\n",
       "      <td>0.000055</td>\n",
       "    </tr>\n",
       "    <tr>\n",
       "      <th>1999</th>\n",
       "      <td>1.941723e+08</td>\n",
       "      <td>66850.480956</td>\n",
       "      <td>0.152075</td>\n",
       "      <td>18.918527</td>\n",
       "      <td>0.000054</td>\n",
       "    </tr>\n",
       "  </tbody>\n",
       "</table>\n",
       "<p>2000 rows × 5 columns</p>\n",
       "</div>"
      ],
      "text/plain": [
       "                k0             k1   damping   velocity     w_max\n",
       "0     1.073641e+08  148746.025235  0.020847  20.553105  0.000084\n",
       "1     2.277191e+07   84102.166772  0.065196  25.656706  0.000268\n",
       "2     9.175781e+07   31225.232905  0.171639  29.383616  0.000095\n",
       "3     3.972292e+07  107823.087179  0.047984  62.910787  0.000183\n",
       "4     1.901094e+07  157633.258648  0.018515  72.599706  0.000309\n",
       "...            ...            ...       ...        ...       ...\n",
       "1995  1.340495e+08   68238.118267  0.081144  71.546504  0.000073\n",
       "1996  7.674841e+07  118055.199765  0.024334  48.119528  0.000110\n",
       "1997  1.322220e+07  153852.980762  0.080516  60.188139  0.000402\n",
       "1998  1.885010e+08   69389.389191  0.194409  10.906861  0.000055\n",
       "1999  1.941723e+08   66850.480956  0.152075  18.918527  0.000054\n",
       "\n",
       "[2000 rows x 5 columns]"
      ]
     },
     "execution_count": 6,
     "metadata": {},
     "output_type": "execute_result"
    }
   ],
   "source": [
    "df"
   ]
  },
  {
   "cell_type": "code",
   "execution_count": 7,
   "id": "674c9991",
   "metadata": {},
   "outputs": [
    {
     "data": {
      "text/html": [
       "<div>\n",
       "<style scoped>\n",
       "    .dataframe tbody tr th:only-of-type {\n",
       "        vertical-align: middle;\n",
       "    }\n",
       "\n",
       "    .dataframe tbody tr th {\n",
       "        vertical-align: top;\n",
       "    }\n",
       "\n",
       "    .dataframe thead th {\n",
       "        text-align: right;\n",
       "    }\n",
       "</style>\n",
       "<table border=\"1\" class=\"dataframe\">\n",
       "  <thead>\n",
       "    <tr style=\"text-align: right;\">\n",
       "      <th></th>\n",
       "      <th>k0</th>\n",
       "      <th>k1</th>\n",
       "      <th>damping</th>\n",
       "      <th>velocity</th>\n",
       "      <th>w_max</th>\n",
       "    </tr>\n",
       "  </thead>\n",
       "  <tbody>\n",
       "    <tr>\n",
       "      <th>0</th>\n",
       "      <td>1.073641e+08</td>\n",
       "      <td>148746.025235</td>\n",
       "      <td>0.020847</td>\n",
       "      <td>20.553105</td>\n",
       "      <td>0.000084</td>\n",
       "    </tr>\n",
       "    <tr>\n",
       "      <th>1</th>\n",
       "      <td>2.277191e+07</td>\n",
       "      <td>84102.166772</td>\n",
       "      <td>0.065196</td>\n",
       "      <td>25.656706</td>\n",
       "      <td>0.000268</td>\n",
       "    </tr>\n",
       "    <tr>\n",
       "      <th>2</th>\n",
       "      <td>9.175781e+07</td>\n",
       "      <td>31225.232905</td>\n",
       "      <td>0.171639</td>\n",
       "      <td>29.383616</td>\n",
       "      <td>0.000095</td>\n",
       "    </tr>\n",
       "    <tr>\n",
       "      <th>3</th>\n",
       "      <td>3.972292e+07</td>\n",
       "      <td>107823.087179</td>\n",
       "      <td>0.047984</td>\n",
       "      <td>62.910787</td>\n",
       "      <td>0.000183</td>\n",
       "    </tr>\n",
       "    <tr>\n",
       "      <th>4</th>\n",
       "      <td>1.901094e+07</td>\n",
       "      <td>157633.258648</td>\n",
       "      <td>0.018515</td>\n",
       "      <td>72.599706</td>\n",
       "      <td>0.000309</td>\n",
       "    </tr>\n",
       "  </tbody>\n",
       "</table>\n",
       "</div>"
      ],
      "text/plain": [
       "             k0             k1   damping   velocity     w_max\n",
       "0  1.073641e+08  148746.025235  0.020847  20.553105  0.000084\n",
       "1  2.277191e+07   84102.166772  0.065196  25.656706  0.000268\n",
       "2  9.175781e+07   31225.232905  0.171639  29.383616  0.000095\n",
       "3  3.972292e+07  107823.087179  0.047984  62.910787  0.000183\n",
       "4  1.901094e+07  157633.258648  0.018515  72.599706  0.000309"
      ]
     },
     "execution_count": 7,
     "metadata": {},
     "output_type": "execute_result"
    }
   ],
   "source": [
    "df.head()"
   ]
  },
  {
   "cell_type": "code",
   "execution_count": 8,
   "id": "9d66cb98",
   "metadata": {},
   "outputs": [
    {
     "data": {
      "text/html": [
       "<div>\n",
       "<style scoped>\n",
       "    .dataframe tbody tr th:only-of-type {\n",
       "        vertical-align: middle;\n",
       "    }\n",
       "\n",
       "    .dataframe tbody tr th {\n",
       "        vertical-align: top;\n",
       "    }\n",
       "\n",
       "    .dataframe thead th {\n",
       "        text-align: right;\n",
       "    }\n",
       "</style>\n",
       "<table border=\"1\" class=\"dataframe\">\n",
       "  <thead>\n",
       "    <tr style=\"text-align: right;\">\n",
       "      <th></th>\n",
       "      <th>k0</th>\n",
       "      <th>k1</th>\n",
       "      <th>damping</th>\n",
       "      <th>velocity</th>\n",
       "      <th>w_max</th>\n",
       "    </tr>\n",
       "  </thead>\n",
       "  <tbody>\n",
       "    <tr>\n",
       "      <th>1995</th>\n",
       "      <td>1.340495e+08</td>\n",
       "      <td>68238.118267</td>\n",
       "      <td>0.081144</td>\n",
       "      <td>71.546504</td>\n",
       "      <td>0.000073</td>\n",
       "    </tr>\n",
       "    <tr>\n",
       "      <th>1996</th>\n",
       "      <td>7.674841e+07</td>\n",
       "      <td>118055.199765</td>\n",
       "      <td>0.024334</td>\n",
       "      <td>48.119528</td>\n",
       "      <td>0.000110</td>\n",
       "    </tr>\n",
       "    <tr>\n",
       "      <th>1997</th>\n",
       "      <td>1.322220e+07</td>\n",
       "      <td>153852.980762</td>\n",
       "      <td>0.080516</td>\n",
       "      <td>60.188139</td>\n",
       "      <td>0.000402</td>\n",
       "    </tr>\n",
       "    <tr>\n",
       "      <th>1998</th>\n",
       "      <td>1.885010e+08</td>\n",
       "      <td>69389.389191</td>\n",
       "      <td>0.194409</td>\n",
       "      <td>10.906861</td>\n",
       "      <td>0.000055</td>\n",
       "    </tr>\n",
       "    <tr>\n",
       "      <th>1999</th>\n",
       "      <td>1.941723e+08</td>\n",
       "      <td>66850.480956</td>\n",
       "      <td>0.152075</td>\n",
       "      <td>18.918527</td>\n",
       "      <td>0.000054</td>\n",
       "    </tr>\n",
       "  </tbody>\n",
       "</table>\n",
       "</div>"
      ],
      "text/plain": [
       "                k0             k1   damping   velocity     w_max\n",
       "1995  1.340495e+08   68238.118267  0.081144  71.546504  0.000073\n",
       "1996  7.674841e+07  118055.199765  0.024334  48.119528  0.000110\n",
       "1997  1.322220e+07  153852.980762  0.080516  60.188139  0.000402\n",
       "1998  1.885010e+08   69389.389191  0.194409  10.906861  0.000055\n",
       "1999  1.941723e+08   66850.480956  0.152075  18.918527  0.000054"
      ]
     },
     "execution_count": 8,
     "metadata": {},
     "output_type": "execute_result"
    }
   ],
   "source": [
    "df.tail()"
   ]
  },
  {
   "cell_type": "code",
   "execution_count": 11,
   "id": "0f70330a",
   "metadata": {},
   "outputs": [],
   "source": [
    "# --- 2. Data Pre-processing ---\n",
    "\n",
    "# Separate the inpute features (x) from the output target (y).\n",
    "x = df[['k0', 'k1', 'damping', 'velocity']]\n",
    "y = df['w_max']"
   ]
  },
  {
   "cell_type": "code",
   "execution_count": 22,
   "id": "1013de32",
   "metadata": {},
   "outputs": [],
   "source": [
    "# Split data into training + validation (85%) and testing (15%) sets.\n",
    "x_train_val, x_test, y_train_val, y_test = train_test_split(x, y, test_size=0.15, random_state=42)"
   ]
  },
  {
   "cell_type": "code",
   "execution_count": 24,
   "id": "555a1fbf",
   "metadata": {},
   "outputs": [],
   "source": [
    "# Split the 85% block into training (70%) and validation (15%)\n",
    "# The new test_size is 15/85 to get 15% of the original total data.\n",
    "x_train, x_val, y_train, y_val = train_test_split(x_train_val, y_train_val, test_size=(0.15/0.85), random_state=42)"
   ]
  },
  {
   "cell_type": "code",
   "execution_count": null,
   "id": "48c0f652",
   "metadata": {},
   "outputs": [
    {
     "data": {
      "text/plain": [
       "1700"
      ]
     },
     "execution_count": 13,
     "metadata": {},
     "output_type": "execute_result"
    }
   ],
   "source": [
    "len(x_train)"
   ]
  },
  {
   "cell_type": "code",
   "execution_count": null,
   "id": "11086c71",
   "metadata": {},
   "outputs": [
    {
     "data": {
      "text/plain": [
       "300"
      ]
     },
     "execution_count": 14,
     "metadata": {},
     "output_type": "execute_result"
    }
   ],
   "source": [
    "len(x_test)"
   ]
  },
  {
   "cell_type": "code",
   "execution_count": 25,
   "id": "19c559f7",
   "metadata": {},
   "outputs": [],
   "source": [
    "# scale the input features\n",
    "# We fit the scaler ONLY on the training data to prvent data leakage.\n",
    "scaler = MinMaxScaler()\n",
    "x_train_scaled = scaler.fit_transform(x_train)\n",
    "x_val_scaled = scaler.transform(x_val)\n",
    "x_test_scaled = scaler.transform(x_test)\n"
   ]
  },
  {
   "cell_type": "code",
   "execution_count": 26,
   "id": "891043fd",
   "metadata": {},
   "outputs": [
    {
     "name": "stdout",
     "output_type": "stream",
     "text": [
      "\n",
      "Data split complete (70/15/15).\n",
      "Total samples: 2000\n",
      "Training samples: 1400\n",
      "Validation samples: 300\n",
      "Testing samples: 300\n"
     ]
    }
   ],
   "source": [
    "print(F\"\\nData split complete (70/15/15).\")\n",
    "print(F\"Total samples: {len(df)}\")\n",
    "print(F\"Training samples: {len(x_train)}\")\n",
    "print(F\"Validation samples: {len(x_val)}\")\n",
    "print(F\"Testing samples: {len(x_test)}\")"
   ]
  },
  {
   "cell_type": "code",
   "execution_count": null,
   "id": "42ed76b2",
   "metadata": {},
   "outputs": [
    {
     "name": "stdout",
     "output_type": "stream",
     "text": [
      "\n",
      "Building the Neural Network Model...\n"
     ]
    }
   ],
   "source": [
    "# --- 3. Build the Neural Network Model ---\n",
    "print(\"\\nBuilding the Neural Network Model...\")\n"
   ]
  },
  {
   "cell_type": "code",
   "execution_count": null,
   "id": "5a8f7cc6",
   "metadata": {},
   "outputs": [],
   "source": []
  }
 ],
 "metadata": {
  "kernelspec": {
   "display_name": "Python 3",
   "language": "python",
   "name": "python3"
  },
  "language_info": {
   "codemirror_mode": {
    "name": "ipython",
    "version": 3
   },
   "file_extension": ".py",
   "mimetype": "text/x-python",
   "name": "python",
   "nbconvert_exporter": "python",
   "pygments_lexer": "ipython3",
   "version": "3.11.9"
  }
 },
 "nbformat": 4,
 "nbformat_minor": 5
}
