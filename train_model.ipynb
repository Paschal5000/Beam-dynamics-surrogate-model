{
 "cells": [
  {
   "cell_type": "markdown",
   "id": "d2b77e3c",
   "metadata": {},
   "source": [
    "This script builds, trains, and evaluates a nueral network surrogate model to predict the deflection of a beam based on the generated dataset."
   ]
  },
  {
   "cell_type": "code",
   "execution_count": 139,
   "id": "b815a8ca",
   "metadata": {},
   "outputs": [],
   "source": [
    "import pandas as pd\n",
    "import numpy as np\n",
    "import tensorflow as tf\n",
    "from sklearn.model_selection import train_test_split\n",
    "from sklearn.preprocessing import MinMaxScaler\n",
    "from sklearn.metrics import r2_score, mean_squared_error, mean_absolute_error\n",
    "import matplotlib.pyplot as plt\n",
    "import time"
   ]
  },
  {
   "cell_type": "code",
   "execution_count": 140,
   "id": "806baba4",
   "metadata": {},
   "outputs": [
    {
     "name": "stdout",
     "output_type": "stream",
     "text": [
      "Loadind dataset...\n",
      "Dataset loaded successfully.\n",
      "\n",
      "Dataset Info:\n",
      "<class 'pandas.core.frame.DataFrame'>\n",
      "RangeIndex: 2000 entries, 0 to 1999\n",
      "Data columns (total 5 columns):\n",
      " #   Column    Non-Null Count  Dtype  \n",
      "---  ------    --------------  -----  \n",
      " 0   k0        2000 non-null   float64\n",
      " 1   k1        2000 non-null   float64\n",
      " 2   damping   2000 non-null   float64\n",
      " 3   velocity  2000 non-null   float64\n",
      " 4   w_max     2000 non-null   float64\n",
      "dtypes: float64(5)\n",
      "memory usage: 78.3 KB\n",
      "\n",
      "First 5 rows of the dataset:\n",
      "<class 'pandas.core.frame.DataFrame'>\n",
      "RangeIndex: 2000 entries, 0 to 1999\n",
      "Data columns (total 5 columns):\n",
      " #   Column    Non-Null Count  Dtype  \n",
      "---  ------    --------------  -----  \n",
      " 0   k0        2000 non-null   float64\n",
      " 1   k1        2000 non-null   float64\n",
      " 2   damping   2000 non-null   float64\n",
      " 3   velocity  2000 non-null   float64\n",
      " 4   w_max     2000 non-null   float64\n",
      "dtypes: float64(5)\n",
      "memory usage: 78.3 KB\n",
      "None\n"
     ]
    }
   ],
   "source": [
    "# --- 1. Load Data ---\n",
    "print(\"Loadind dataset...\")\n",
    "df = pd.read_csv(r\"C:\\Users\\pasch\\OneDrive\\PortalFrameAnalysis\\beam_deflection_dataset.csv\")\n",
    "print(\"Dataset loaded successfully.\")\n",
    "print(\"\\nDataset Info:\")\n",
    "df.info()\n",
    "print(\"\\nFirst 5 rows of the dataset:\")\n",
    "print(df.info())"
   ]
  },
  {
   "cell_type": "code",
   "execution_count": 141,
   "id": "339b1853",
   "metadata": {},
   "outputs": [
    {
     "data": {
      "text/html": [
       "<div>\n",
       "<style scoped>\n",
       "    .dataframe tbody tr th:only-of-type {\n",
       "        vertical-align: middle;\n",
       "    }\n",
       "\n",
       "    .dataframe tbody tr th {\n",
       "        vertical-align: top;\n",
       "    }\n",
       "\n",
       "    .dataframe thead th {\n",
       "        text-align: right;\n",
       "    }\n",
       "</style>\n",
       "<table border=\"1\" class=\"dataframe\">\n",
       "  <thead>\n",
       "    <tr style=\"text-align: right;\">\n",
       "      <th></th>\n",
       "      <th>k0</th>\n",
       "      <th>k1</th>\n",
       "      <th>damping</th>\n",
       "      <th>velocity</th>\n",
       "      <th>w_max</th>\n",
       "    </tr>\n",
       "  </thead>\n",
       "  <tbody>\n",
       "    <tr>\n",
       "      <th>0</th>\n",
       "      <td>1.073641e+08</td>\n",
       "      <td>148746.025235</td>\n",
       "      <td>0.020847</td>\n",
       "      <td>20.553105</td>\n",
       "      <td>0.000084</td>\n",
       "    </tr>\n",
       "    <tr>\n",
       "      <th>1</th>\n",
       "      <td>2.277191e+07</td>\n",
       "      <td>84102.166772</td>\n",
       "      <td>0.065196</td>\n",
       "      <td>25.656706</td>\n",
       "      <td>0.000268</td>\n",
       "    </tr>\n",
       "    <tr>\n",
       "      <th>2</th>\n",
       "      <td>9.175781e+07</td>\n",
       "      <td>31225.232905</td>\n",
       "      <td>0.171639</td>\n",
       "      <td>29.383616</td>\n",
       "      <td>0.000095</td>\n",
       "    </tr>\n",
       "    <tr>\n",
       "      <th>3</th>\n",
       "      <td>3.972292e+07</td>\n",
       "      <td>107823.087179</td>\n",
       "      <td>0.047984</td>\n",
       "      <td>62.910787</td>\n",
       "      <td>0.000183</td>\n",
       "    </tr>\n",
       "    <tr>\n",
       "      <th>4</th>\n",
       "      <td>1.901094e+07</td>\n",
       "      <td>157633.258648</td>\n",
       "      <td>0.018515</td>\n",
       "      <td>72.599706</td>\n",
       "      <td>0.000309</td>\n",
       "    </tr>\n",
       "    <tr>\n",
       "      <th>...</th>\n",
       "      <td>...</td>\n",
       "      <td>...</td>\n",
       "      <td>...</td>\n",
       "      <td>...</td>\n",
       "      <td>...</td>\n",
       "    </tr>\n",
       "    <tr>\n",
       "      <th>1995</th>\n",
       "      <td>1.340495e+08</td>\n",
       "      <td>68238.118267</td>\n",
       "      <td>0.081144</td>\n",
       "      <td>71.546504</td>\n",
       "      <td>0.000073</td>\n",
       "    </tr>\n",
       "    <tr>\n",
       "      <th>1996</th>\n",
       "      <td>7.674841e+07</td>\n",
       "      <td>118055.199765</td>\n",
       "      <td>0.024334</td>\n",
       "      <td>48.119528</td>\n",
       "      <td>0.000110</td>\n",
       "    </tr>\n",
       "    <tr>\n",
       "      <th>1997</th>\n",
       "      <td>1.322220e+07</td>\n",
       "      <td>153852.980762</td>\n",
       "      <td>0.080516</td>\n",
       "      <td>60.188139</td>\n",
       "      <td>0.000402</td>\n",
       "    </tr>\n",
       "    <tr>\n",
       "      <th>1998</th>\n",
       "      <td>1.885010e+08</td>\n",
       "      <td>69389.389191</td>\n",
       "      <td>0.194409</td>\n",
       "      <td>10.906861</td>\n",
       "      <td>0.000055</td>\n",
       "    </tr>\n",
       "    <tr>\n",
       "      <th>1999</th>\n",
       "      <td>1.941723e+08</td>\n",
       "      <td>66850.480956</td>\n",
       "      <td>0.152075</td>\n",
       "      <td>18.918527</td>\n",
       "      <td>0.000054</td>\n",
       "    </tr>\n",
       "  </tbody>\n",
       "</table>\n",
       "<p>2000 rows × 5 columns</p>\n",
       "</div>"
      ],
      "text/plain": [
       "                k0             k1   damping   velocity     w_max\n",
       "0     1.073641e+08  148746.025235  0.020847  20.553105  0.000084\n",
       "1     2.277191e+07   84102.166772  0.065196  25.656706  0.000268\n",
       "2     9.175781e+07   31225.232905  0.171639  29.383616  0.000095\n",
       "3     3.972292e+07  107823.087179  0.047984  62.910787  0.000183\n",
       "4     1.901094e+07  157633.258648  0.018515  72.599706  0.000309\n",
       "...            ...            ...       ...        ...       ...\n",
       "1995  1.340495e+08   68238.118267  0.081144  71.546504  0.000073\n",
       "1996  7.674841e+07  118055.199765  0.024334  48.119528  0.000110\n",
       "1997  1.322220e+07  153852.980762  0.080516  60.188139  0.000402\n",
       "1998  1.885010e+08   69389.389191  0.194409  10.906861  0.000055\n",
       "1999  1.941723e+08   66850.480956  0.152075  18.918527  0.000054\n",
       "\n",
       "[2000 rows x 5 columns]"
      ]
     },
     "execution_count": 141,
     "metadata": {},
     "output_type": "execute_result"
    }
   ],
   "source": [
    "df"
   ]
  },
  {
   "cell_type": "code",
   "execution_count": 142,
   "id": "674c9991",
   "metadata": {},
   "outputs": [
    {
     "data": {
      "text/html": [
       "<div>\n",
       "<style scoped>\n",
       "    .dataframe tbody tr th:only-of-type {\n",
       "        vertical-align: middle;\n",
       "    }\n",
       "\n",
       "    .dataframe tbody tr th {\n",
       "        vertical-align: top;\n",
       "    }\n",
       "\n",
       "    .dataframe thead th {\n",
       "        text-align: right;\n",
       "    }\n",
       "</style>\n",
       "<table border=\"1\" class=\"dataframe\">\n",
       "  <thead>\n",
       "    <tr style=\"text-align: right;\">\n",
       "      <th></th>\n",
       "      <th>k0</th>\n",
       "      <th>k1</th>\n",
       "      <th>damping</th>\n",
       "      <th>velocity</th>\n",
       "      <th>w_max</th>\n",
       "    </tr>\n",
       "  </thead>\n",
       "  <tbody>\n",
       "    <tr>\n",
       "      <th>0</th>\n",
       "      <td>1.073641e+08</td>\n",
       "      <td>148746.025235</td>\n",
       "      <td>0.020847</td>\n",
       "      <td>20.553105</td>\n",
       "      <td>0.000084</td>\n",
       "    </tr>\n",
       "    <tr>\n",
       "      <th>1</th>\n",
       "      <td>2.277191e+07</td>\n",
       "      <td>84102.166772</td>\n",
       "      <td>0.065196</td>\n",
       "      <td>25.656706</td>\n",
       "      <td>0.000268</td>\n",
       "    </tr>\n",
       "    <tr>\n",
       "      <th>2</th>\n",
       "      <td>9.175781e+07</td>\n",
       "      <td>31225.232905</td>\n",
       "      <td>0.171639</td>\n",
       "      <td>29.383616</td>\n",
       "      <td>0.000095</td>\n",
       "    </tr>\n",
       "    <tr>\n",
       "      <th>3</th>\n",
       "      <td>3.972292e+07</td>\n",
       "      <td>107823.087179</td>\n",
       "      <td>0.047984</td>\n",
       "      <td>62.910787</td>\n",
       "      <td>0.000183</td>\n",
       "    </tr>\n",
       "    <tr>\n",
       "      <th>4</th>\n",
       "      <td>1.901094e+07</td>\n",
       "      <td>157633.258648</td>\n",
       "      <td>0.018515</td>\n",
       "      <td>72.599706</td>\n",
       "      <td>0.000309</td>\n",
       "    </tr>\n",
       "  </tbody>\n",
       "</table>\n",
       "</div>"
      ],
      "text/plain": [
       "             k0             k1   damping   velocity     w_max\n",
       "0  1.073641e+08  148746.025235  0.020847  20.553105  0.000084\n",
       "1  2.277191e+07   84102.166772  0.065196  25.656706  0.000268\n",
       "2  9.175781e+07   31225.232905  0.171639  29.383616  0.000095\n",
       "3  3.972292e+07  107823.087179  0.047984  62.910787  0.000183\n",
       "4  1.901094e+07  157633.258648  0.018515  72.599706  0.000309"
      ]
     },
     "execution_count": 142,
     "metadata": {},
     "output_type": "execute_result"
    }
   ],
   "source": [
    "df.head()"
   ]
  },
  {
   "cell_type": "code",
   "execution_count": 143,
   "id": "9d66cb98",
   "metadata": {},
   "outputs": [
    {
     "data": {
      "text/html": [
       "<div>\n",
       "<style scoped>\n",
       "    .dataframe tbody tr th:only-of-type {\n",
       "        vertical-align: middle;\n",
       "    }\n",
       "\n",
       "    .dataframe tbody tr th {\n",
       "        vertical-align: top;\n",
       "    }\n",
       "\n",
       "    .dataframe thead th {\n",
       "        text-align: right;\n",
       "    }\n",
       "</style>\n",
       "<table border=\"1\" class=\"dataframe\">\n",
       "  <thead>\n",
       "    <tr style=\"text-align: right;\">\n",
       "      <th></th>\n",
       "      <th>k0</th>\n",
       "      <th>k1</th>\n",
       "      <th>damping</th>\n",
       "      <th>velocity</th>\n",
       "      <th>w_max</th>\n",
       "    </tr>\n",
       "  </thead>\n",
       "  <tbody>\n",
       "    <tr>\n",
       "      <th>1995</th>\n",
       "      <td>1.340495e+08</td>\n",
       "      <td>68238.118267</td>\n",
       "      <td>0.081144</td>\n",
       "      <td>71.546504</td>\n",
       "      <td>0.000073</td>\n",
       "    </tr>\n",
       "    <tr>\n",
       "      <th>1996</th>\n",
       "      <td>7.674841e+07</td>\n",
       "      <td>118055.199765</td>\n",
       "      <td>0.024334</td>\n",
       "      <td>48.119528</td>\n",
       "      <td>0.000110</td>\n",
       "    </tr>\n",
       "    <tr>\n",
       "      <th>1997</th>\n",
       "      <td>1.322220e+07</td>\n",
       "      <td>153852.980762</td>\n",
       "      <td>0.080516</td>\n",
       "      <td>60.188139</td>\n",
       "      <td>0.000402</td>\n",
       "    </tr>\n",
       "    <tr>\n",
       "      <th>1998</th>\n",
       "      <td>1.885010e+08</td>\n",
       "      <td>69389.389191</td>\n",
       "      <td>0.194409</td>\n",
       "      <td>10.906861</td>\n",
       "      <td>0.000055</td>\n",
       "    </tr>\n",
       "    <tr>\n",
       "      <th>1999</th>\n",
       "      <td>1.941723e+08</td>\n",
       "      <td>66850.480956</td>\n",
       "      <td>0.152075</td>\n",
       "      <td>18.918527</td>\n",
       "      <td>0.000054</td>\n",
       "    </tr>\n",
       "  </tbody>\n",
       "</table>\n",
       "</div>"
      ],
      "text/plain": [
       "                k0             k1   damping   velocity     w_max\n",
       "1995  1.340495e+08   68238.118267  0.081144  71.546504  0.000073\n",
       "1996  7.674841e+07  118055.199765  0.024334  48.119528  0.000110\n",
       "1997  1.322220e+07  153852.980762  0.080516  60.188139  0.000402\n",
       "1998  1.885010e+08   69389.389191  0.194409  10.906861  0.000055\n",
       "1999  1.941723e+08   66850.480956  0.152075  18.918527  0.000054"
      ]
     },
     "execution_count": 143,
     "metadata": {},
     "output_type": "execute_result"
    }
   ],
   "source": [
    "df.tail()"
   ]
  },
  {
   "cell_type": "code",
   "execution_count": 144,
   "id": "0f70330a",
   "metadata": {},
   "outputs": [],
   "source": [
    "# --- 2. Data Pre-processing ---\n",
    "\n",
    "# Separate the inpute features (x) from the output target (y).\n",
    "x = df[['k0', 'k1', 'damping', 'velocity']]\n",
    "y = df['w_max']"
   ]
  },
  {
   "cell_type": "code",
   "execution_count": 145,
   "id": "1013de32",
   "metadata": {},
   "outputs": [],
   "source": [
    "# Split data into training + validation (85%) and testing (15%) sets.\n",
    "x_train_val, x_test, y_train_val, y_test = train_test_split(x, y, test_size=0.15, random_state=42)"
   ]
  },
  {
   "cell_type": "code",
   "execution_count": 146,
   "id": "555a1fbf",
   "metadata": {},
   "outputs": [],
   "source": [
    "# Split the 85% block into training (70%) and validation (15%)\n",
    "# The new test_size is 15/85 to get 15% of the original total data.\n",
    "x_train, x_val, y_train, y_val = train_test_split(x_train_val, y_train_val, test_size=(0.15/0.85), random_state=42)"
   ]
  },
  {
   "cell_type": "code",
   "execution_count": 147,
   "id": "48c0f652",
   "metadata": {},
   "outputs": [
    {
     "data": {
      "text/plain": [
       "1400"
      ]
     },
     "execution_count": 147,
     "metadata": {},
     "output_type": "execute_result"
    }
   ],
   "source": [
    "len(x_train)"
   ]
  },
  {
   "cell_type": "code",
   "execution_count": 148,
   "id": "11086c71",
   "metadata": {},
   "outputs": [
    {
     "data": {
      "text/plain": [
       "300"
      ]
     },
     "execution_count": 148,
     "metadata": {},
     "output_type": "execute_result"
    }
   ],
   "source": [
    "len(x_test)"
   ]
  },
  {
   "cell_type": "code",
   "execution_count": 149,
   "id": "19c559f7",
   "metadata": {},
   "outputs": [],
   "source": [
    "# scale the input features\n",
    "# We fit the scaler ONLY on the training data to prvent data leakage.\n",
    "scaler = MinMaxScaler()\n",
    "x_train_scaled = scaler.fit_transform(x_train)\n",
    "x_val_scaled = scaler.transform(x_val)\n",
    "x_test_scaled = scaler.transform(x_test)\n"
   ]
  },
  {
   "cell_type": "code",
   "execution_count": 150,
   "id": "891043fd",
   "metadata": {},
   "outputs": [
    {
     "name": "stdout",
     "output_type": "stream",
     "text": [
      "\n",
      "Data split complete (70/15/15).\n",
      "Total samples: 2000\n",
      "Training samples: 1400\n",
      "Validation samples: 300\n",
      "Testing samples: 300\n"
     ]
    }
   ],
   "source": [
    "print(F\"\\nData split complete (70/15/15).\")\n",
    "print(F\"Total samples: {len(df)}\")\n",
    "print(F\"Training samples: {len(x_train)}\")\n",
    "print(F\"Validation samples: {len(x_val)}\")\n",
    "print(F\"Testing samples: {len(x_test)}\")"
   ]
  },
  {
   "cell_type": "code",
   "execution_count": 151,
   "id": "42ed76b2",
   "metadata": {},
   "outputs": [
    {
     "name": "stdout",
     "output_type": "stream",
     "text": [
      "\n",
      "Building the Neural Network Model...\n"
     ]
    }
   ],
   "source": [
    "# --- 3. Build the Neural Network Model ---\n",
    "print(\"\\nBuilding the Neural Network Model...\")\n"
   ]
  },
  {
   "cell_type": "code",
   "execution_count": 152,
   "id": "5a8f7cc6",
   "metadata": {},
   "outputs": [],
   "source": [
    "# Input Layer: The shape must match the number of input features (4).\n",
    "model = tf.keras.Sequential([tf.keras.layers.Input(shape=(x_train_scaled.shape[1],)),\n",
    "                             \n",
    "# First hidden layer with 128 neurons and ReLU activation function.\n",
    "tf.keras.layers.Dense(8, activation='relu'),\n",
    "\n",
    "# Second hidden layer with 64 neurons.\n",
    "\n",
    "\n",
    "# Third hidden layer with 32 neurons.\n",
    "\n",
    "\n",
    "# Output Layer: A Single neuron for the regression output (w_max).\n",
    "tf.keras.layers.Dense(1)\n",
    "])"
   ]
  },
  {
   "cell_type": "code",
   "execution_count": 153,
   "id": "4ae83d5c",
   "metadata": {},
   "outputs": [],
   "source": [
    "# Compile the model.\n",
    "# We define the Optimizer (Adam), Loss function (Mean Squared Error), and any Metrics to track.\n",
    "model.compile(optimizer='adam', loss='mean_squared_error', metrics=['mae', 'mse'])"
   ]
  },
  {
   "cell_type": "code",
   "execution_count": 154,
   "id": "0672017e",
   "metadata": {},
   "outputs": [
    {
     "data": {
      "text/html": [
       "<pre style=\"white-space:pre;overflow-x:auto;line-height:normal;font-family:Menlo,'DejaVu Sans Mono',consolas,'Courier New',monospace\"><span style=\"font-weight: bold\">Model: \"sequential_8\"</span>\n",
       "</pre>\n"
      ],
      "text/plain": [
       "\u001b[1mModel: \"sequential_8\"\u001b[0m\n"
      ]
     },
     "metadata": {},
     "output_type": "display_data"
    },
    {
     "data": {
      "text/html": [
       "<pre style=\"white-space:pre;overflow-x:auto;line-height:normal;font-family:Menlo,'DejaVu Sans Mono',consolas,'Courier New',monospace\">┏━━━━━━━━━━━━━━━━━━━━━━━━━━━━━━━━━┳━━━━━━━━━━━━━━━━━━━━━━━━┳━━━━━━━━━━━━━━━┓\n",
       "┃<span style=\"font-weight: bold\"> Layer (type)                    </span>┃<span style=\"font-weight: bold\"> Output Shape           </span>┃<span style=\"font-weight: bold\">       Param # </span>┃\n",
       "┡━━━━━━━━━━━━━━━━━━━━━━━━━━━━━━━━━╇━━━━━━━━━━━━━━━━━━━━━━━━╇━━━━━━━━━━━━━━━┩\n",
       "│ dense_16 (<span style=\"color: #0087ff; text-decoration-color: #0087ff\">Dense</span>)                │ (<span style=\"color: #00d7ff; text-decoration-color: #00d7ff\">None</span>, <span style=\"color: #00af00; text-decoration-color: #00af00\">8</span>)              │            <span style=\"color: #00af00; text-decoration-color: #00af00\">40</span> │\n",
       "├─────────────────────────────────┼────────────────────────┼───────────────┤\n",
       "│ dense_17 (<span style=\"color: #0087ff; text-decoration-color: #0087ff\">Dense</span>)                │ (<span style=\"color: #00d7ff; text-decoration-color: #00d7ff\">None</span>, <span style=\"color: #00af00; text-decoration-color: #00af00\">1</span>)              │             <span style=\"color: #00af00; text-decoration-color: #00af00\">9</span> │\n",
       "└─────────────────────────────────┴────────────────────────┴───────────────┘\n",
       "</pre>\n"
      ],
      "text/plain": [
       "┏━━━━━━━━━━━━━━━━━━━━━━━━━━━━━━━━━┳━━━━━━━━━━━━━━━━━━━━━━━━┳━━━━━━━━━━━━━━━┓\n",
       "┃\u001b[1m \u001b[0m\u001b[1mLayer (type)                   \u001b[0m\u001b[1m \u001b[0m┃\u001b[1m \u001b[0m\u001b[1mOutput Shape          \u001b[0m\u001b[1m \u001b[0m┃\u001b[1m \u001b[0m\u001b[1m      Param #\u001b[0m\u001b[1m \u001b[0m┃\n",
       "┡━━━━━━━━━━━━━━━━━━━━━━━━━━━━━━━━━╇━━━━━━━━━━━━━━━━━━━━━━━━╇━━━━━━━━━━━━━━━┩\n",
       "│ dense_16 (\u001b[38;5;33mDense\u001b[0m)                │ (\u001b[38;5;45mNone\u001b[0m, \u001b[38;5;34m8\u001b[0m)              │            \u001b[38;5;34m40\u001b[0m │\n",
       "├─────────────────────────────────┼────────────────────────┼───────────────┤\n",
       "│ dense_17 (\u001b[38;5;33mDense\u001b[0m)                │ (\u001b[38;5;45mNone\u001b[0m, \u001b[38;5;34m1\u001b[0m)              │             \u001b[38;5;34m9\u001b[0m │\n",
       "└─────────────────────────────────┴────────────────────────┴───────────────┘\n"
      ]
     },
     "metadata": {},
     "output_type": "display_data"
    },
    {
     "data": {
      "text/html": [
       "<pre style=\"white-space:pre;overflow-x:auto;line-height:normal;font-family:Menlo,'DejaVu Sans Mono',consolas,'Courier New',monospace\"><span style=\"font-weight: bold\"> Total params: </span><span style=\"color: #00af00; text-decoration-color: #00af00\">49</span> (196.00 B)\n",
       "</pre>\n"
      ],
      "text/plain": [
       "\u001b[1m Total params: \u001b[0m\u001b[38;5;34m49\u001b[0m (196.00 B)\n"
      ]
     },
     "metadata": {},
     "output_type": "display_data"
    },
    {
     "data": {
      "text/html": [
       "<pre style=\"white-space:pre;overflow-x:auto;line-height:normal;font-family:Menlo,'DejaVu Sans Mono',consolas,'Courier New',monospace\"><span style=\"font-weight: bold\"> Trainable params: </span><span style=\"color: #00af00; text-decoration-color: #00af00\">49</span> (196.00 B)\n",
       "</pre>\n"
      ],
      "text/plain": [
       "\u001b[1m Trainable params: \u001b[0m\u001b[38;5;34m49\u001b[0m (196.00 B)\n"
      ]
     },
     "metadata": {},
     "output_type": "display_data"
    },
    {
     "data": {
      "text/html": [
       "<pre style=\"white-space:pre;overflow-x:auto;line-height:normal;font-family:Menlo,'DejaVu Sans Mono',consolas,'Courier New',monospace\"><span style=\"font-weight: bold\"> Non-trainable params: </span><span style=\"color: #00af00; text-decoration-color: #00af00\">0</span> (0.00 B)\n",
       "</pre>\n"
      ],
      "text/plain": [
       "\u001b[1m Non-trainable params: \u001b[0m\u001b[38;5;34m0\u001b[0m (0.00 B)\n"
      ]
     },
     "metadata": {},
     "output_type": "display_data"
    }
   ],
   "source": [
    "# Print a summary of the model architecture.\n",
    "model.summary()"
   ]
  },
  {
   "cell_type": "code",
   "execution_count": 155,
   "id": "9d4ce5d3",
   "metadata": {},
   "outputs": [
    {
     "name": "stdout",
     "output_type": "stream",
     "text": [
      "\n",
      "Training the model...\n"
     ]
    }
   ],
   "source": [
    "# --- 4. Train the Model ---\n",
    "print(\"\\nTraining the model...\")\n",
    "start_time = time.time()"
   ]
  },
  {
   "cell_type": "code",
   "execution_count": 156,
   "id": "81635e5a",
   "metadata": {},
   "outputs": [],
   "source": [
    "# Define an EarlyStopping callback to prevent overfitting.\n",
    "# This will monitor and stop training if the validation loss does not improve for 20 epochs.\n",
    "early_stopping = tf.keras.callbacks.EarlyStopping(monitor='val_loss', patience=20, restore_best_weights=True) # Restores model weights from the best epoch.\n"
   ]
  },
  {
   "cell_type": "code",
   "execution_count": 157,
   "id": "486891c3",
   "metadata": {},
   "outputs": [
    {
     "name": "stdout",
     "output_type": "stream",
     "text": [
      "Epoch 1/100\n",
      "Epoch 2/100\n",
      "Epoch 3/100\n",
      "Epoch 4/100\n",
      "Epoch 5/100\n",
      "Epoch 6/100\n",
      "Epoch 7/100\n",
      "Epoch 8/100\n",
      "Epoch 9/100\n",
      "Epoch 10/100\n",
      "Epoch 11/100\n",
      "Epoch 12/100\n",
      "Epoch 13/100\n",
      "Epoch 14/100\n",
      "Epoch 15/100\n",
      "Epoch 16/100\n",
      "Epoch 17/100\n",
      "Epoch 18/100\n",
      "Epoch 19/100\n",
      "Epoch 20/100\n",
      "Epoch 21/100\n",
      "Epoch 22/100\n",
      "Epoch 23/100\n",
      "Epoch 24/100\n",
      "Epoch 25/100\n",
      "Epoch 26/100\n",
      "Epoch 27/100\n",
      "Epoch 28/100\n",
      "Epoch 29/100\n",
      "Epoch 30/100\n",
      "Epoch 31/100\n",
      "Epoch 32/100\n",
      "Epoch 33/100\n",
      "Epoch 34/100\n",
      "Epoch 35/100\n",
      "Epoch 36/100\n",
      "Epoch 37/100\n",
      "Epoch 38/100\n",
      "Epoch 39/100\n",
      "Epoch 40/100\n",
      "Epoch 41/100\n",
      "Epoch 42/100\n",
      "Epoch 43/100\n",
      "Epoch 44/100\n",
      "Epoch 45/100\n",
      "Epoch 46/100\n",
      "Epoch 47/100\n",
      "Epoch 48/100\n",
      "Epoch 49/100\n",
      "Epoch 50/100\n",
      "Epoch 51/100\n",
      "Epoch 52/100\n",
      "Epoch 53/100\n",
      "Epoch 54/100\n",
      "Epoch 55/100\n",
      "Epoch 56/100\n",
      "Epoch 57/100\n",
      "Epoch 58/100\n",
      "Epoch 59/100\n",
      "Epoch 60/100\n",
      "Epoch 61/100\n",
      "Epoch 62/100\n",
      "Epoch 63/100\n",
      "Epoch 64/100\n",
      "Epoch 65/100\n",
      "Epoch 66/100\n",
      "Epoch 67/100\n",
      "Epoch 68/100\n",
      "Epoch 69/100\n",
      "Epoch 70/100\n",
      "Epoch 71/100\n",
      "Epoch 72/100\n",
      "Epoch 73/100\n",
      "Epoch 74/100\n",
      "Epoch 75/100\n",
      "Epoch 76/100\n",
      "Epoch 77/100\n",
      "Epoch 78/100\n",
      "Epoch 79/100\n",
      "Epoch 80/100\n",
      "Epoch 81/100\n",
      "Epoch 82/100\n",
      "Epoch 83/100\n",
      "Epoch 84/100\n",
      "Epoch 85/100\n",
      "Epoch 86/100\n",
      "Epoch 87/100\n",
      "Epoch 88/100\n",
      "Epoch 89/100\n",
      "Epoch 90/100\n",
      "Epoch 91/100\n",
      "Epoch 92/100\n",
      "Epoch 93/100\n",
      "Epoch 94/100\n",
      "Epoch 95/100\n",
      "Epoch 96/100\n",
      "Epoch 97/100\n",
      "Epoch 98/100\n",
      "Epoch 99/100\n",
      "Epoch 100/100\n"
     ]
    }
   ],
   "source": [
    "# Train the model\n",
    "# We use 15% of the training data for validation.\n",
    "# The batch size is set to 32, and we train for a maximum of 500 epochs.\n",
    "# The `verbose` parameter is set to 1 to display training progress.\n",
    "history = model.fit(x_train_scaled, y_train, epochs=100, validation_data=(x_val_scaled, y_val), batch_size=32, callbacks=[early_stopping], verbose=[1])"
   ]
  },
  {
   "cell_type": "code",
   "execution_count": 158,
   "id": "d3314649",
   "metadata": {},
   "outputs": [
    {
     "name": "stdout",
     "output_type": "stream",
     "text": [
      "\n",
      "Training complete.\n",
      "\n",
      "Training time: 25.29 seconds.\n"
     ]
    }
   ],
   "source": [
    "end_time = time.time()\n",
    "training_time = end_time - start_time\n",
    "print(F\"\\nTraining complete.\")\n",
    "print(F\"\\nTraining time: {training_time:.2f} seconds.\")"
   ]
  },
  {
   "cell_type": "code",
   "execution_count": 159,
   "id": "14c1ad7e",
   "metadata": {},
   "outputs": [
    {
     "name": "stdout",
     "output_type": "stream",
     "text": [
      "\n",
      "Evaluating the Model on the test set...\n"
     ]
    }
   ],
   "source": [
    "# --- 5. Evaluate the Model ---\n",
    "print(F\"\\nEvaluating the Model on the test set...\")"
   ]
  },
  {
   "cell_type": "code",
   "execution_count": 160,
   "id": "b4d3bf3a",
   "metadata": {},
   "outputs": [
    {
     "name": "stdout",
     "output_type": "stream",
     "text": [
      "\u001b[1m10/10\u001b[0m \u001b[32m━━━━━━━━━━━━━━━━━━━━\u001b[0m\u001b[37m\u001b[0m \u001b[1m0s\u001b[0m 5ms/step  \n"
     ]
    }
   ],
   "source": [
    "# Make predictions on the unseen test data\n",
    "y_pred = model.predict(x_test_scaled).flatten() # flatten converts a column vector"
   ]
  },
  {
   "cell_type": "code",
   "execution_count": 161,
   "id": "b00ea2b0",
   "metadata": {},
   "outputs": [
    {
     "name": "stdout",
     "output_type": "stream",
     "text": [
      "(300,)\n",
      "(300,)\n",
      "(300, 4)\n"
     ]
    }
   ],
   "source": [
    "print(y_test.shape)\n",
    "print(y_pred.shape)\n",
    "print(x_test_scaled.shape)"
   ]
  },
  {
   "cell_type": "code",
   "execution_count": 162,
   "id": "cd47a2f7",
   "metadata": {},
   "outputs": [],
   "source": [
    "# Calculate performance metrics.\n",
    "\n",
    "r2 = r2_score(y_test, y_pred)\n",
    "rmse = np.sqrt(mean_squared_error(y_test, y_pred))\n",
    "mae = mean_absolute_error(y_test, y_pred)"
   ]
  },
  {
   "cell_type": "code",
   "execution_count": 163,
   "id": "f7b7ceed",
   "metadata": {},
   "outputs": [
    {
     "name": "stdout",
     "output_type": "stream",
     "text": [
      "R2 Score: -19729.0232\n",
      "Root Mean Squared Error (RMSE): 0.0105\n",
      "Mean Absolute Error (MAE): 0.0068\n"
     ]
    }
   ],
   "source": [
    "print(F\"R2 Score: {r2:.4f}\")\n",
    "print(F\"Root Mean Squared Error (RMSE): {rmse:.4f}\")\n",
    "print(F\"Mean Absolute Error (MAE): {mae:.4f}\")"
   ]
  },
  {
   "cell_type": "code",
   "execution_count": 164,
   "id": "99b69199",
   "metadata": {},
   "outputs": [
    {
     "name": "stdout",
     "output_type": "stream",
     "text": [
      "y_test min: 5.29800565514084e-05\n",
      "y_test max: 0.0004958765309274\n",
      "y_test mean: 0.00011285844539389159\n",
      "y_test std (variance): 7.44660116818775e-05\n",
      "y_pred min: -0.058479518\n",
      "y_pred max: 0.04155069\n",
      "y_pred mean: 0.00068792206\n",
      "y_pred std (variance): 0.010437519\n"
     ]
    },
    {
     "data": {
      "image/png": "[encoded data removed]",
      "text/plain": [
       "<Figure size 600x600 with 1 Axes>"
      ]
     },
     "metadata": {},
     "output_type": "display_data"
    },
    {
     "data": {
      "image/png": "[encoded data removed]",
      "text/plain": [
       "<Figure size 600x400 with 1 Axes>"
      ]
     },
     "metadata": {},
     "output_type": "display_data"
    }
   ],
   "source": [
    "import matplotlib.pyplot as plt\n",
    "\n",
    "# 1. Check the range and variance of your target\n",
    "print(\"y_test min:\", np.min(y_test))\n",
    "print(\"y_test max:\", np.max(y_test))\n",
    "print(\"y_test mean:\", np.mean(y_test))\n",
    "print(\"y_test std (variance):\", np.std(y_test))\n",
    "\n",
    "# 2. Check the range and variance of your predictions\n",
    "print(\"y_pred min:\", np.min(y_pred))\n",
    "print(\"y_pred max:\", np.max(y_pred))\n",
    "print(\"y_pred mean:\", np.mean(y_pred))\n",
    "print(\"y_pred std (variance):\", np.std(y_pred))\n",
    "\n",
    "# 3. Plot y_test vs y_pred\n",
    "plt.figure(figsize=(6,6))\n",
    "plt.scatter(y_test, y_pred, alpha=0.5)\n",
    "plt.xlabel(\"True w_max (y_test)\")\n",
    "plt.ylabel(\"Predicted w_max (y_pred)\")\n",
    "plt.title(\"Predicted vs True Values\")\n",
    "plt.plot([min(y_test), max(y_test)], [min(y_test), max(y_test)], 'r--')  # y=x line\n",
    "plt.show()\n",
    "\n",
    "# 4. Plot residuals\n",
    "plt.figure(figsize=(6,4))\n",
    "plt.hist(y_test - y_pred, bins=30)\n",
    "plt.xlabel(\"Residual (y_test - y_pred)\")\n",
    "plt.ylabel(\"Count\")\n",
    "plt.title(\"Residuals Histogram\")\n",
    "plt.show()"
   ]
  },
  {
   "cell_type": "code",
   "execution_count": 165,
   "id": "944b7bce",
   "metadata": {},
   "outputs": [
    {
     "name": "stdout",
     "output_type": "stream",
     "text": [
      "Loading dataset...\n",
      "\n",
      "--- Dataset Diagnostic ---\n",
      "count    2000.000000\n",
      "mean        0.000118\n",
      "std         0.000082\n",
      "min         0.000053\n",
      "25%         0.000065\n",
      "50%         0.000086\n",
      "75%         0.000135\n",
      "max         0.000503\n",
      "Name: w_max, dtype: float64\n",
      "------------------------\n",
      "\n"
     ]
    }
   ],
   "source": [
    "# --- 1. Load the Dataset ---\n",
    "print(\"Loading dataset...\")\n",
    "df = pd.read_csv('beam_deflection_dataset.csv')\n",
    "\n",
    "# --- ADD THIS DIAGNOSTIC CODE ---\n",
    "print(\"\\n--- Dataset Diagnostic ---\")\n",
    "print(df['w_max'].describe())\n",
    "print(\"------------------------\\n\")\n",
    "# -----------------------------\n",
    "\n",
    "# ... rest of your script"
   ]
  },
  {
   "cell_type": "code",
   "execution_count": null,
   "id": "d6de8d59",
   "metadata": {},
   "outputs": [],
   "source": []
  }
 ],
 "metadata": {
  "kernelspec": {
   "display_name": "Python 3",
   "language": "python",
   "name": "python3"
  },
  "language_info": {
   "codemirror_mode": {
    "name": "ipython",
    "version": 3
   },
   "file_extension": ".py",
   "mimetype": "text/x-python",
   "name": "python",
   "nbconvert_exporter": "python",
   "pygments_lexer": "ipython3",
   "version": "3.11.9"
  }
 },
 "nbformat": 4,
 "nbformat_minor": 5
}
